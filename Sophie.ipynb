import math
import numpy as np
import pandas as pd
from matplotlib import pyplot as plt

def sigmoid(x):
    return 1.0 / (1.0 + np.exp(x))

def arc(R, A, B, x):
    return B * np.sqrt(R**2 - (x/A)**2)

def rot13(str):
    return "".join([chr((ord(x) - 65 + 13)%26 + 65) if x >= "A" and x <= "Z" else x for x in str.upper()])

x1 = np.arange(-5.0, 6.5, 0.01)
y1_1 = sigmoid(x1)
y1_2 = -y1_1

R = 1.0
A = 2.5
B = y1_1[0] / 2.0 - 0.00128

x2 = np.arange(-A, 0.01, 0.01)
y_tmp = arc(R, A, B, x2)
y2_1 = y_tmp + B
y2_2 = -y_tmp + B
x2 += x1[0]

x1 = -x1
x2 = -x2

plt.plot(y1_1, x1)
plt.plot(y1_2, x1)

plt.plot(y2_1, x2)
plt.plot(y2_2, x2)
plt.plot(-y2_1, x2)
plt.plot(-y2_2, x2)

print("{}".format(rot13("OBAAR SRGR ZNZNA!")))
