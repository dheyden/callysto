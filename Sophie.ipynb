{
 "cells": [
  {
   "cell_type": "code",
   "execution_count": null,
   "metadata": {},
   "outputs": [],
   "source": [
    "import math\n",
    "import numpy as np\n",
    "import pandas as pd\n",
    "from matplotlib import pyplot as plt\n",
    "\n",
    "def sigmoid(x):\n",
    "    return 1.0 / (1.0 + np.exp(x))\n",
    "\n",
    "def arc(R, A, B, x):\n",
    "    return B * np.sqrt(R**2 - (x/A)**2)\n",
    "\n",
    "def rot13(str):\n",
    "    return \"\".join([chr((ord(x) - 65 + 13)%26 + 65) if x >= \"A\" and x <= \"Z\" else x for x in str.upper()])\n",
    "\n",
    "x1 = np.arange(-5.0, 6.5, 0.01)\n",
    "y1_1 = sigmoid(x1)\n",
    "y1_2 = -y1_1\n",
    "\n",
    "R = 1.0\n",
    "A = 2.5\n",
    "B = y1_1[0] / 2.0 - 0.00128\n",
    "\n",
    "x2 = np.arange(-A, 0.01, 0.01)\n",
    "y_tmp = arc(R, A, B, x2)\n",
    "y2_1 = y_tmp + B\n",
    "y2_2 = -y_tmp + B\n",
    "x2 += x1[0]\n",
    "\n",
    "x1 = -x1\n",
    "x2 = -x2\n",
    "\n",
    "plt.plot(y1_1, x1)\n",
    "plt.plot(y1_2, x1)\n",
    "\n",
    "plt.plot(y2_1, x2)\n",
    "plt.plot(y2_2, x2)\n",
    "plt.plot(-y2_1, x2)\n",
    "plt.plot(-y2_2, x2)\n",
    "\n",
    "print(\"{}\".format(rot13(\"OBAAR SRGR ZNZNA!\")))"
   ]
  },
  {
   "cell_type": "code",
   "execution_count": null,
   "metadata": {},
   "outputs": [],
   "source": []
  }
 ],
 "metadata": {
  "kernelspec": {
   "display_name": "Python 3",
   "language": "python",
   "name": "python3"
  },
  "language_info": {
   "codemirror_mode": {
    "name": "ipython",
    "version": 3
   },
   "file_extension": ".py",
   "mimetype": "text/x-python",
   "name": "python",
   "nbconvert_exporter": "python",
   "pygments_lexer": "ipython3",
   "version": "3.6.10"
  }
 },
 "nbformat": 4,
 "nbformat_minor": 4
}
